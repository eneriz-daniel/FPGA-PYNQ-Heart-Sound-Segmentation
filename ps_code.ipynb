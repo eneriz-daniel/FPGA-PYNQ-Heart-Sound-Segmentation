{
 "cells": [
  {
   "cell_type": "markdown",
   "id": "0a9dfea1",
   "metadata": {},
   "source": [
    "# Low-power heart sound segmentation model on FPGA\n",
    "## Basic functonality. Driver."
   ]
  },
  {
   "cell_type": "code",
   "execution_count": 1,
   "id": "156a2231",
   "metadata": {},
   "outputs": [],
   "source": [
    "from pynq import Overlay, DefaultIP\n",
    "import numpy as np\n",
    "from tqdm import tqdm"
   ]
  },
  {
   "cell_type": "code",
   "execution_count": 2,
   "id": "915930cb",
   "metadata": {},
   "outputs": [],
   "source": [
    "class SegmenterDriver(DefaultIP):\n",
    "    bindto = ['xilinx.com:hls:Segmenter:1.0']\n",
    "    \n",
    "    from fxpmath import Fxp\n",
    "    from tqdm import tqdm\n",
    "    from time import perf_counter\n",
    "    \n",
    "    def __init__(self,description):\n",
    "        super().__init__(description=description)\n",
    "        \n",
    "        self.X_ADDR = description['registers']['Memory_x_V']['address_offset']\n",
    "        self.Y_ADDR = description['registers']['Memory_y_V']['address_offset']\n",
    "        \n",
    "        self.N = None # Number of input time points\n",
    "        self.N_FEATURES = None # Number of input features\n",
    "        self.N_CLASSES = None # Number of output classes\n",
    "        \n",
    "        self.W = None # Number of total bits of the fixed-point datatype\n",
    "        self.I = None # Number of integer bits of the fixed-point datatype\n",
    "        \n",
    "        self.APFIXED = None # Type to use as template\n",
    "        \n",
    "        self.configured = False\n",
    "    \n",
    "    def configure(self, N, N_FEATURES, N_CLASSES, W, I):\n",
    "        \"\"\"\n",
    "        Set the neural network input and output\n",
    "        shape and choose fixed-point datatype number\n",
    "        of bits.\n",
    "\n",
    "        Args:\n",
    "            N (int): Number of input time points\n",
    "            N_FEATURES (int): Number of input features\n",
    "            N_CLASSES (int): Number of output classes\n",
    "            W (int): Number of total bits of the fixed-point datatype\n",
    "            I (int): Number of integer bits of the fixed-point datatype\n",
    "        \"\"\"\n",
    "        \n",
    "        self.N = N\n",
    "        self.N_FEATURES = N_FEATURES\n",
    "        self.N_CLASSES = N_CLASSES\n",
    "\n",
    "        self.W = W\n",
    "        self.I = I\n",
    "\n",
    "        self.APFIXED = self.Fxp(None, signed=True, n_word=self.W, n_frac=self.W-self.I)\n",
    "\n",
    "        self.configured = True\n",
    "    \n",
    "    def _write_array(self, offset, data):\n",
    "        \"\"\"\n",
    "        Write an array of data to the memory\n",
    "        mapped to the IP.\n",
    "\n",
    "        Args:\n",
    "            offset (int): Offset in the memory to write the data.\n",
    "            data (numpy.ndarray): Data to write.\n",
    "        \"\"\"\n",
    "\n",
    "        assert self.W == 16, \"Only 16-bit fixed-point datatype is supported\"\n",
    "\n",
    "        # Load data as as APFIXED type\n",
    "        data_fixed = self.Fxp(data).like(self.APFIXED)\n",
    "\n",
    "        # Flatten data\n",
    "        data_fixed = data_fixed.flatten()\n",
    "\n",
    "        # Get the integer asociated integer values\n",
    "        data_fixed = data_fixed.uraw()\n",
    "\n",
    "        # Join each pair of integer values into a single 32-bit value\n",
    "        for i in range(len(data_fixed)//2):\n",
    "            self.write(offset + i*4, int((data_fixed[2*i+1] << 16) + data_fixed[2*i]))\n",
    "\n",
    "        # If the number of elements is odd, write the last element\n",
    "        if len(data_fixed) % 2 != 0:\n",
    "            self.write(offset + len(data_fixed)//2*4, int(data_fixed[-1]))\n",
    "    \n",
    "    def _read_array(self, offset, shape):\n",
    "        \"\"\"\n",
    "        Read an array of data from the memory\n",
    "        mapped to the IP.\n",
    "\n",
    "        Args:\n",
    "            offset (int): Offset in the memory to read the data.\n",
    "            shape (tuple): Shape of the array to read.\n",
    "        \"\"\"\n",
    "\n",
    "        assert self.W == 16, \"Only 16-bit fixed-point datatype is supported\"\n",
    "\n",
    "        data = np.zeros(shape, dtype=np.float32).flatten()\n",
    "\n",
    "        for i in range(len(data)//2):\n",
    "            uint32 = self.read(offset + i*4)\n",
    "            data[2*i] = uint32 & 0xFFFF\n",
    "            data[2*i+1] = uint32 >> 16\n",
    "\n",
    "        data_fixed = self.Fxp(None).like(self.APFIXED)\n",
    "        data_fixed.set_val(data, raw=True)\n",
    "\n",
    "        return data_fixed.get_val().reshape(shape)\n",
    "    \n",
    "    def predict(self, x):\n",
    "        \n",
    "        assert self.configured, \"Segmenter not configured. Please call configure() method first.\"\n",
    "        \n",
    "        assert x.ndim == 3\n",
    "        assert x.shape[1] == self.N\n",
    "        assert x.shape[2] == self.N_FEATURES\n",
    "\n",
    "        y = np.zeros((x.shape[0], self.N, self.N_CLASSES), dtype=np.float32)\n",
    "        \n",
    "        for i in self.tqdm(range(x.shape[0])):\n",
    "\n",
    "            self._write_array(self.X_ADDR, x[i])\n",
    "            \n",
    "            self.register_map.CTRL.AP_START = 1\n",
    "\n",
    "            while self.register_map.CTRL.AP_DONE == 0:\n",
    "                pass\n",
    "\n",
    "            y[i] = self._read_array(self.Y_ADDR, (self.N, self.N_CLASSES))\n",
    "            \n",
    "        return y\n",
    "    \n",
    "    def measure_latency(self, n_runs, n_tests=1, verbose=True):\n",
    "        \"\"\"\n",
    "        Measure the latency running multiple times the IP.\n",
    "        \n",
    "        Args:\n",
    "            n_runs (int): Number of times to run the IP per test.\n",
    "            n_test (int, optional): Number of tests.\n",
    "        \"\"\"\n",
    "        \n",
    "        assert self.configured, \"Segmenter not configured. Please call configure() method first.\"\n",
    "        \n",
    "        latencies = np.zeros(n_tests)\n",
    "        \n",
    "        for i in range(n_tests):\n",
    "            \n",
    "            t0 = self.perf_counter()\n",
    "\n",
    "            for _ in range(n_runs):\n",
    "                self.register_map.CTRL.AP_START = 1\n",
    "\n",
    "                while self.register_map.CTRL.AP_DONE == 0:\n",
    "                    pass\n",
    "            t1 = self.perf_counter()\n",
    "            \n",
    "            latencies[i] = ((t1-t0)/n_runs)\n",
    "        \n",
    "            if verbose:\n",
    "                print('Latency Test #{} (ms): {:.3f}'.format(i, latencies[i]*1e3))\n",
    "            \n",
    "        if n_tests > 1 and verbose:\n",
    "            print('---------------------------')\n",
    "            print('Average: {:.3f} ± {:.3f}'.format(latencies.mean()*1e3, latencies.std()*1e3))\n",
    "        return latencies"
   ]
  },
  {
   "cell_type": "code",
   "execution_count": 3,
   "id": "f0fb1efe",
   "metadata": {},
   "outputs": [],
   "source": [
    "# test.npz file provided is a small set of data due to GitHub file size limitations\n",
    "with np.load('test.npz') as test_file:\n",
    "    x = test_file['X']\n",
    "    y = test_file['S']"
   ]
  },
  {
   "cell_type": "code",
   "execution_count": 4,
   "id": "9f4de7c6",
   "metadata": {},
   "outputs": [
    {
     "data": {
      "application/javascript": "\ntry {\nrequire(['notebook/js/codecell'], function(codecell) {\n  codecell.CodeCell.options_default.highlight_modes[\n      'magic_text/x-csrc'] = {'reg':[/^%%microblaze/]};\n  Jupyter.notebook.events.one('kernel_ready.Kernel', function(){\n      Jupyter.notebook.get_cells().map(function(cell){\n          if (cell.cell_type == 'code'){ cell.auto_highlight(); } }) ;\n  });\n});\n} catch (e) {};\n"
     },
     "metadata": {},
     "output_type": "display_data"
    },
    {
     "data": {
      "application/javascript": "\ntry {\nrequire(['notebook/js/codecell'], function(codecell) {\n  codecell.CodeCell.options_default.highlight_modes[\n      'magic_text/x-csrc'] = {'reg':[/^%%pybind11/]};\n  Jupyter.notebook.events.one('kernel_ready.Kernel', function(){\n      Jupyter.notebook.get_cells().map(function(cell){\n          if (cell.cell_type == 'code'){ cell.auto_highlight(); } }) ;\n  });\n});\n} catch (e) {};\n"
     },
     "metadata": {},
     "output_type": "display_data"
    }
   ],
   "source": [
    "ol = Overlay('pl_design.bit', ignore_version=True)"
   ]
  },
  {
   "cell_type": "code",
   "execution_count": 5,
   "id": "9e3e803b",
   "metadata": {},
   "outputs": [],
   "source": [
    "model = ol.Segmenter_0\n",
    "model.configure(x.shape[1], x.shape[2], y.shape[2], 16, 8)"
   ]
  },
  {
   "cell_type": "code",
   "execution_count": 26,
   "id": "de35cdc3",
   "metadata": {},
   "outputs": [],
   "source": [
    "TEST_SAMPLES = 100"
   ]
  },
  {
   "cell_type": "code",
   "execution_count": null,
   "id": "7c7235f2",
   "metadata": {},
   "outputs": [],
   "source": [
    "y_fpga = model.predict(x[:TEST_SAMPLES])"
   ]
  },
  {
   "cell_type": "code",
   "execution_count": null,
   "id": "623d4053",
   "metadata": {
    "scrolled": true
   },
   "outputs": [],
   "source": [
    "correct = 0\n",
    "y_idx = np.argmax(y, axis=-1)[:TEST_SAMPLES]\n",
    "y_fpga_idx = np.argmax(y_fpga, axis=-1)\n",
    "for i in range(y_idx.shape[0]):\n",
    "    for j in range(y_idx.shape[1]):\n",
    "        correct += y_idx[i, j] == y_fpga_idx[i, j]\n",
    "print('Accracy: {}'.format(correct/y_idx.size))"
   ]
  },
  {
   "cell_type": "code",
   "execution_count": 6,
   "id": "dd27a505",
   "metadata": {},
   "outputs": [
    {
     "name": "stderr",
     "output_type": "stream",
     "text": [
      "/usr/local/share/pynq-venv/lib/python3.10/site-packages/pynq/registers.py:369: UserWarning: Unsupported register size 512 for register Memory_x_V\n",
      "  warnings.warn(\n",
      "/usr/local/share/pynq-venv/lib/python3.10/site-packages/pynq/registers.py:369: UserWarning: Unsupported register size 512 for register Memory_y_V\n",
      "  warnings.warn(\n"
     ]
    },
    {
     "name": "stdout",
     "output_type": "stream",
     "text": [
      "Latency Test #0 (ms): 17.960\n",
      "Latency Test #1 (ms): 17.772\n",
      "Latency Test #2 (ms): 17.773\n",
      "Latency Test #3 (ms): 17.778\n",
      "Latency Test #4 (ms): 17.771\n",
      "---------------------------\n",
      "Average: 17.811 ± 0.075\n"
     ]
    }
   ],
   "source": [
    "latencies = np.array(model.measure_latency(100, 5))"
   ]
  },
  {
   "cell_type": "markdown",
   "id": "fbe2c53f",
   "metadata": {},
   "source": [
    "## Power consuption profile"
   ]
  },
  {
   "cell_type": "code",
   "execution_count": 6,
   "id": "2ab4f076",
   "metadata": {},
   "outputs": [],
   "source": [
    "import pyvisa\n",
    "from time import perf_counter, sleep\n",
    "from multiprocessing import Process, Array, Value\n",
    "import matplotlib.pyplot as plt"
   ]
  },
  {
   "cell_type": "code",
   "execution_count": null,
   "id": "1de2e1e8",
   "metadata": {},
   "outputs": [],
   "source": [
    "rm = pyvisa.ResourceManager('@py')\n",
    "rm.list_resources()\n",
    "VISA_ADDR = '' # Write here you SMU VISA address "
   ]
  },
  {
   "cell_type": "code",
   "execution_count": 55,
   "id": "3e3c5ed4",
   "metadata": {},
   "outputs": [],
   "source": [
    "smu = rm.open_resource(VISA_ADDR)"
   ]
  },
  {
   "cell_type": "code",
   "execution_count": 8,
   "id": "7d63a77d",
   "metadata": {},
   "outputs": [],
   "source": [
    "def _capture_power(t, d, stop):\n",
    "    \"\"\"A function to launch as a subprocess to capture the power consumption.\n",
    "\n",
    "    To get maximum performance (minimal time resolution) the function is based\n",
    "    on a `while` loop checking the value of the `stop`. If the length of the\n",
    "    arrays is not enough, the function will try to write data outside the array.\n",
    "    This will raise a warning and the data will be lost. Therefore, choose the\n",
    "    length of the arrays wisely.\n",
    "\n",
    "    Args:\n",
    "        t (SynchronizedArray): Array to store the timestamps.\n",
    "        d (SynchronizedArray): Array to store measurements.\n",
    "        stop (Value): Value to indicate when to stop the power measurement.\n",
    "    \"\"\"\n",
    "    i = 0\n",
    "\n",
    "    while not stop.value:\n",
    "\n",
    "        t[i] = perf_counter()\n",
    "\n",
    "        d[i] = float(smu.query('READ?'))\n",
    "\n",
    "        i += 1\n",
    "\n",
    "def measure_power(hls_model, max_time=10):\n",
    "\n",
    "    SIZE = 1000\n",
    "\n",
    "    timestamps = Array('d', [0.0]*SIZE)\n",
    "    power = Array('d', [0.0]*SIZE)\n",
    "    stop = Value('b', False)\n",
    "    \n",
    "    # Launch a subprocess to capture the power consumption while the IP\n",
    "    # is running under the latency test\n",
    "    p = Process(target=_capture_power, args=(timestamps, power, stop))\n",
    "    sleep(2)\n",
    "    p.start()\n",
    "    sleep(max_time)\n",
    "    t0 = perf_counter()\n",
    "    \n",
    "    while perf_counter() - t0 < max_time:\n",
    "        hls_model.register_map.CTRL.AP_START = 1\n",
    "        while hls_model.register_map.CTRL.AP_DONE == 0:\n",
    "            pass\n",
    "\n",
    "    \n",
    "    stop.value = True\n",
    "    p.join()\n",
    "\n",
    "    p.close()\n",
    "    \n",
    "    timestamps = np.array(timestamps)\n",
    "    power = np.array(power)\n",
    "\n",
    "\n",
    "    # Remove the zeros from the arrays\n",
    "    tmask = timestamps > 0\n",
    "    timestamps = timestamps[tmask]\n",
    "    power = power[tmask]\n",
    "\n",
    "    # Get the time stamps relative to the start of the test\n",
    "    timestamps = timestamps - t0\n",
    "    \n",
    "    power *= 12 # To get the power in Watts\n",
    "    \n",
    "    return timestamps, power"
   ]
  },
  {
   "cell_type": "code",
   "execution_count": 56,
   "id": "b00413f9",
   "metadata": {},
   "outputs": [],
   "source": [
    "timestamps, power = measure_power(model)"
   ]
  },
  {
   "cell_type": "code",
   "execution_count": 58,
   "id": "7aa553b1",
   "metadata": {},
   "outputs": [],
   "source": [
    "smu.close()"
   ]
  },
  {
   "cell_type": "code",
   "execution_count": 9,
   "id": "330cef27",
   "metadata": {},
   "outputs": [],
   "source": [
    "def mean_std_without_outliers(data, m=3):\n",
    "    mean = data.mean()\n",
    "    std = data.std()\n",
    "    mask = np.abs(data-mean) < m*std\n",
    "    return data[mask].mean(), data[mask].std(), mask"
   ]
  },
  {
   "cell_type": "code",
   "execution_count": 10,
   "id": "492d6761",
   "metadata": {},
   "outputs": [],
   "source": [
    "def mean_std_power_energy(timestamps, power, latencies, return_str=False):\n",
    "    power_passive_mean, power_passive_std, power_passive_mask = mean_std_without_outliers(power[timestamps < 0])\n",
    "    power_active_mean, power_active_std, power_active_mask = mean_std_without_outliers(power[timestamps > 0])\n",
    "    delta_p_mean = power_active_mean-power_passive_mean\n",
    "    delta_p_std = np.sqrt(power_passive_std**2 + power_active_std**2)\n",
    "    delta_p_str = '{:.0f}±{:.0f} mW'.format(delta_p_mean*1e3, 1e3*delta_p_std)\n",
    "\n",
    "    energy_mean = (power_active_mean-power_passive_mean)*latencies.mean()\n",
    "    energy_std = np.sqrt((power_active_mean-power_passive_mean)**2*latencies.std()**2 + latencies.mean()**2*(power_passive_std**2 + power_active_std**2))   \n",
    "    energy_str = '{:.2f}±{:.2f} mJ'.format(energy_mean*1e3, energy_std*1e3)\n",
    "    \n",
    "    if return_str:\n",
    "        return delta_p_str, energy_str\n",
    "    else:\n",
    "        return delta_p_mean, delta_p_std, energy_mean, energy_std"
   ]
  },
  {
   "cell_type": "code",
   "execution_count": 57,
   "id": "300d9108",
   "metadata": {},
   "outputs": [
    {
     "name": "stdout",
     "output_type": "stream",
     "text": [
      "Delta P: 134±14 mW\n",
      "Enegy per inference: 23.68±2.53 mJ\n"
     ]
    },
    {
     "data": {
      "image/png": "[encoded data removed]",
      "text/plain": [
       "<Figure size 432x288 with 1 Axes>"
      ]
     },
     "metadata": {
      "needs_background": "light"
     },
     "output_type": "display_data"
    }
   ],
   "source": [
    "delta_p_str, energy_str = mean_std_power_energy(timestamps, power, latencies, True)\n",
    "\n",
    "print('Delta P: {}\\nEnegy per inference: {}'.format(delta_p_str, energy_str))\n",
    "\n",
    "plt.plot(timestamps, power)\n",
    "plt.ylabel('Power (W)')\n",
    "plt.xlabel('Time (s)')\n",
    "\n",
    "np.savez('f100_v1.npz', timestamps=timestamps, power=power)\n",
    "\n",
    "plt.title('$f$=100 MHz, $V_{INT}$=1V')\n",
    "\n",
    "plt.savefig('pw_profile.pdf')\n",
    "\n",
    "plt.show()"
   ]
  },
  {
   "cell_type": "markdown",
   "id": "fa57baf4",
   "metadata": {},
   "source": [
    "## Power consuption over clock frequency"
   ]
  },
  {
   "cell_type": "code",
   "execution_count": 11,
   "id": "0292bcc6",
   "metadata": {},
   "outputs": [],
   "source": [
    "from pynq.ps import Clocks"
   ]
  },
  {
   "cell_type": "code",
   "execution_count": 59,
   "id": "f629a86a",
   "metadata": {},
   "outputs": [],
   "source": [
    "smu = rm.open_resource(VISA_ADDR)"
   ]
  },
  {
   "cell_type": "code",
   "execution_count": 60,
   "id": "396eccb3",
   "metadata": {},
   "outputs": [],
   "source": [
    "f_target = np.arange(10, 110, 10)\n",
    "f_real = np.zeros_like(f_target)"
   ]
  },
  {
   "cell_type": "code",
   "execution_count": 61,
   "id": "d7a1722f",
   "metadata": {},
   "outputs": [
    {
     "name": "stderr",
     "output_type": "stream",
     "text": [
      " 20%|██        | 2/10 [00:57<03:47, 28.48s/it]/usr/local/share/pynq-venv/lib/python3.10/site-packages/pynq/ps.py:434: UserWarning: Setting frequency to the closest possible value 30.30303MHz.\n",
      "  warnings.warn(\n",
      " 50%|█████     | 5/10 [02:11<02:06, 25.28s/it]/usr/local/share/pynq-venv/lib/python3.10/site-packages/pynq/ps.py:434: UserWarning: Setting frequency to the closest possible value 58.82353MHz.\n",
      "  warnings.warn(\n",
      " 60%|██████    | 6/10 [02:35<01:39, 24.76s/it]/usr/local/share/pynq-venv/lib/python3.10/site-packages/pynq/ps.py:434: UserWarning: Setting frequency to the closest possible value 71.42857MHz.\n",
      "  warnings.warn(\n",
      " 70%|███████   | 7/10 [02:58<01:13, 24.34s/it]/usr/local/share/pynq-venv/lib/python3.10/site-packages/pynq/ps.py:434: UserWarning: Setting frequency to the closest possible value 83.33333MHz.\n",
      "  warnings.warn(\n",
      " 80%|████████  | 8/10 [03:21<00:48, 24.02s/it]/usr/local/share/pynq-venv/lib/python3.10/site-packages/pynq/ps.py:434: UserWarning: Setting frequency to the closest possible value 90.90909MHz.\n",
      "  warnings.warn(\n",
      "100%|██████████| 10/10 [04:08<00:00, 24.83s/it]\n"
     ]
    }
   ],
   "source": [
    "delta_p_mean = np.zeros(f_target.size)\n",
    "delta_p_std = np.zeros(f_target.size)\n",
    "energy_mean = np.zeros(f_target.size)\n",
    "energy_std = np.zeros(f_target.size)\n",
    "\n",
    "latency_mean = np.zeros(f_target.size)\n",
    "latency_std = np.zeros(f_target.size)\n",
    "\n",
    "for i in tqdm(range(f_target.size)):\n",
    "    Clocks.fclk0_mhz = f_target[i]\n",
    "    f_real[i] = Clocks.fclk0_mhz\n",
    "    \n",
    "    latencies = model.measure_latency(10, 5, False)\n",
    "    timestamps, power = measure_power(model)\n",
    "    \n",
    "    delta_p_mean[i], delta_p_std[i], energy_mean[i], energy_std[i] = mean_std_power_energy(timestamps, power, latencies)\n",
    "    \n",
    "    latency_mean[i] = latencies.mean()\n",
    "    latency_std[i] = latencies.std()\n",
    "\n",
    "np.savez('f_dependency_vint1.npz', f=f_real, delta_p_mean=delta_p_mean, delta_p_std=delta_p_std, energy_mean=energy_mean, energy_std=energy_std, latency_mean=latency_mean, latency_std=latency_std)"
   ]
  },
  {
   "cell_type": "code",
   "execution_count": 62,
   "id": "a9204880",
   "metadata": {},
   "outputs": [],
   "source": [
    "smu.close()"
   ]
  },
  {
   "cell_type": "code",
   "execution_count": 63,
   "id": "da3f1b66",
   "metadata": {},
   "outputs": [
    {
     "data": {
      "image/png": "[encoded data removed]",
      "text/plain": [
       "<Figure size 720x720 with 3 Axes>"
      ]
     },
     "metadata": {
      "needs_background": "light"
     },
     "output_type": "display_data"
    }
   ],
   "source": [
    "fig, axs = plt.subplots(3,1, sharex=True, figsize=(10,10))\n",
    "\n",
    "axs[0].errorbar(f_real, delta_p_mean, yerr=delta_p_std)\n",
    "axs[0].set_ylabel('$\\Delta$P (W)')\n",
    "\n",
    "axs[1].errorbar(f_real, energy_mean, yerr=energy_std)\n",
    "axs[1].set_ylabel('Energy per inference (J)')\n",
    "\n",
    "axs[2].errorbar(f_real, latency_mean, yerr=latency_std)\n",
    "axs[2].set_ylabel('Latency (s)')\n",
    "axs[2].set_xlabel('Clock frequency (MHz)')\n",
    "\n",
    "plt.savefig('f_dependency_vint1.pdf')\n",
    "\n",
    "\n",
    "plt.show()"
   ]
  },
  {
   "cell_type": "code",
   "execution_count": 66,
   "id": "80a94b91",
   "metadata": {},
   "outputs": [],
   "source": [
    "Clocks.fclk_0 = 100 # Reset clock to default"
   ]
  },
  {
   "cell_type": "markdown",
   "id": "34b63d1e",
   "metadata": {},
   "source": [
    "## Power consumption over $V_{INT}$"
   ]
  },
  {
   "cell_type": "code",
   "execution_count": 12,
   "id": "2a13fa8a",
   "metadata": {},
   "outputs": [],
   "source": [
    "class PMIC:\n",
    "    def __init__(self, axiic, addr):\n",
    "        \n",
    "        self.axiic = axiic\n",
    "        self.addr = addr\n",
    "        \n",
    "        self._write(0x10, [0b00100000]) # Enable the VREF Command\n",
    "        \n",
    "        self._write(0x00, [0x00]) # Access page 0, dedicated to SW1, source of Vint\n",
    "        \n",
    "    def _read(self, reg_addr, length):\n",
    "        \"\"\"\n",
    "        Reads a register with multiple bytes in a PMBus device.\n",
    "\n",
    "        Args:\n",
    "            reg_addr (int): Addres of the register to read.\n",
    "            length (int): Number of bytes to read from device at register.\n",
    "        \"\"\"\n",
    "        \n",
    "        assert self.addr != None, \"Set the device address first! Use addr property.\"\n",
    "        \n",
    "        buffer = bytes(32) # Max length 32\n",
    "\n",
    "\n",
    "        self.axiic.send(self.addr, [reg_addr], 1, 1) # Send a\n",
    "        self.axiic.receive(self.addr, buffer, length, 0)\n",
    "\n",
    "        return buffer[:length]\n",
    "\n",
    "    def _write(self, reg_addr, data):\n",
    "        \"\"\"\n",
    "        Writes a register with multiple bytes in a PMBus device.\n",
    "\n",
    "        Args:\n",
    "            reg_addr (int): Address of the register to write.\n",
    "            data (list): List of data to be writen.\n",
    "        \"\"\"\n",
    "        \n",
    "        assert self.addr != None, \"Set the device address first! Use addr property.\"\n",
    "\n",
    "        return self.axiic.send(self.addr, [reg_addr] + data, len(data)+1, 0)\n",
    "    \n",
    "    def set_vint(self, voltage):\n",
    "        \"\"\"\n",
    "        Sets the Vint by changing the desired voltage\n",
    "        in SW1 using the VREF_COMMAND.\n",
    "        \n",
    "        Args:\n",
    "            voltage (float) Value of the voltage in Vint to be set.\n",
    "        \"\"\"\n",
    "        \n",
    "        # Compute the desired voltage in SW1. This is linked to the\n",
    "        # voltage devider formed by the resistors R255 and R256 of\n",
    "        # PYNQ-Z2 schematics\n",
    "        v_sw1 = (30/38.2)*voltage\n",
    "        \n",
    "        # Check if this voltage is in the limits of the PMIC\n",
    "        assert 0.6 <= v_sw1 <= 1.87, \"Resulting voltage in SW1 must be between 0.6 and 1.87\"\n",
    "        \n",
    "        # Compute the binary value corresponding to the desired voltage\n",
    "        bin_val = int((v_sw1 - 0.6) / 0.01)\n",
    "        \n",
    "        # Write to VREF_COMMAND\n",
    "        self._write(0xd8, [bin_val])\n",
    "    \n",
    "    def check_vint(self):\n",
    "        \n",
    "        bin_val = int.from_bytes(self._read(0xd8, 1), 'big')\n",
    "        \n",
    "        return (bin_val*0.01 + 0.6)*(38.2/30)\n",
    "\n",
    "def check_vint_xadc(xadc):\n",
    "    \n",
    "    return (xadc.read(0x204)>>4)*3/4096\n",
    "        "
   ]
  },
  {
   "cell_type": "code",
   "execution_count": 13,
   "id": "31a2607b",
   "metadata": {},
   "outputs": [],
   "source": [
    "pmic = PMIC(ol.axi_iic_0, 0x69)"
   ]
  },
  {
   "cell_type": "code",
   "execution_count": 14,
   "id": "a1b95969",
   "metadata": {},
   "outputs": [
    {
     "data": {
      "text/plain": [
       "b'\\x07LM26430'"
      ]
     },
     "execution_count": 14,
     "metadata": {},
     "output_type": "execute_result"
    }
   ],
   "source": [
    "pmic._read(0xad, 8)"
   ]
  },
  {
   "cell_type": "code",
   "execution_count": 15,
   "id": "8d025413",
   "metadata": {},
   "outputs": [],
   "source": [
    "pmic.set_vint(1.2)"
   ]
  },
  {
   "cell_type": "code",
   "execution_count": 16,
   "id": "a5714448",
   "metadata": {},
   "outputs": [
    {
     "data": {
      "text/plain": [
       "1.1969333333333334"
      ]
     },
     "execution_count": 16,
     "metadata": {},
     "output_type": "execute_result"
    }
   ],
   "source": [
    "pmic.check_vint()"
   ]
  },
  {
   "cell_type": "code",
   "execution_count": 17,
   "id": "27334078",
   "metadata": {},
   "outputs": [],
   "source": [
    "xadc = ol.xadc_wiz_0"
   ]
  },
  {
   "cell_type": "code",
   "execution_count": 18,
   "id": "59e1cd42",
   "metadata": {},
   "outputs": [
    {
     "data": {
      "text/plain": [
       "1.184326171875"
      ]
     },
     "execution_count": 18,
     "metadata": {},
     "output_type": "execute_result"
    }
   ],
   "source": [
    "check_vint_xadc(xadc)"
   ]
  },
  {
   "cell_type": "code",
   "execution_count": 64,
   "id": "e1bbb42c",
   "metadata": {},
   "outputs": [],
   "source": [
    "smu = rm.open_resource(VISA_ADDR)"
   ]
  },
  {
   "cell_type": "code",
   "execution_count": 65,
   "id": "cd8ebd96",
   "metadata": {},
   "outputs": [],
   "source": [
    "v_target = np.arange(1.2, 0.9, -0.01)"
   ]
  },
  {
   "cell_type": "code",
   "execution_count": 67,
   "id": "2117b9fc",
   "metadata": {},
   "outputs": [
    {
     "name": "stderr",
     "output_type": "stream",
     "text": [
      "100%|██████████| 30/30 [11:34<00:00, 23.14s/it]\n"
     ]
    }
   ],
   "source": [
    "v_real = np.zeros_like(v_target)\n",
    "\n",
    "delta_p_mean = np.zeros(v_target.size)\n",
    "delta_p_std = np.zeros(v_target.size)\n",
    "energy_mean = np.zeros(v_target.size)\n",
    "energy_std = np.zeros(v_target.size)\n",
    "\n",
    "latency_mean = np.zeros(v_target.size)\n",
    "latency_std = np.zeros(v_target.size)\n",
    "\n",
    "for i in tqdm(range(v_target.size)):\n",
    "    pmic.set_vint(v_target[i])\n",
    "    v_real[i] = check_vint_xadc(xadc)\n",
    "    \n",
    "    latencies = model.measure_latency(10, 5, False)\n",
    "    timestamps, power = measure_power(model)\n",
    "    \n",
    "    delta_p_mean[i], delta_p_std[i], energy_mean[i], energy_std[i] = mean_std_power_energy(timestamps, power, latencies)\n",
    "    \n",
    "    latency_mean[i] = latencies.mean()\n",
    "    latency_std[i] = latencies.std()\n",
    "    \n",
    "    np.savez('v_dependency_f100.npz', v=v_real, delta_p_mean=delta_p_mean, delta_p_std=delta_p_std, energy_mean=energy_mean, energy_std=energy_std, latency_mean=latency_mean, latency_std=latency_std)"
   ]
  },
  {
   "cell_type": "code",
   "execution_count": 68,
   "id": "2b25a376",
   "metadata": {},
   "outputs": [],
   "source": [
    "smu.close()"
   ]
  },
  {
   "cell_type": "code",
   "execution_count": 69,
   "id": "030bd26b",
   "metadata": {},
   "outputs": [
    {
     "data": {
      "image/png": "[encoded data removed]",
      "text/plain": [
       "<Figure size 720x720 with 3 Axes>"
      ]
     },
     "metadata": {
      "needs_background": "light"
     },
     "output_type": "display_data"
    }
   ],
   "source": [
    "fig, axs = plt.subplots(3,1, sharex=True, figsize=(10,10))\n",
    "\n",
    "axs[0].errorbar(v_real, delta_p_mean, yerr=delta_p_std)\n",
    "axs[0].set_ylabel('$\\Delta$P (W)')\n",
    "\n",
    "axs[1].errorbar(v_real, energy_mean, yerr=energy_std)\n",
    "axs[1].set_ylabel('Energy per inference (J)')\n",
    "\n",
    "axs[2].errorbar(v_real, latency_mean, yerr=latency_std)\n",
    "axs[2].set_ylabel('Latency (s)')\n",
    "axs[2].set_xlabel('Voltage (V)')\n",
    "\n",
    "plt.savefig('v_dependency_f100.pdf')\n",
    "\n",
    "plt.show()"
   ]
  },
  {
   "cell_type": "markdown",
   "id": "c199ae1d",
   "metadata": {},
   "source": [
    "## Both $V_{INT}$ and $f$"
   ]
  },
  {
   "cell_type": "code",
   "execution_count": 38,
   "id": "c5a6850b",
   "metadata": {},
   "outputs": [
    {
     "data": {
      "text/plain": [
       "(array([1.2 , 1.17, 1.14, 1.11, 1.08, 1.05, 1.02, 0.99, 0.96, 0.93]),\n",
       " array([100,  90,  80,  70,  60,  50,  40,  30,  20,  10]))"
      ]
     },
     "execution_count": 38,
     "metadata": {},
     "output_type": "execute_result"
    }
   ],
   "source": [
    "v_target = np.arange(1.2, 0.9, -0.03)\n",
    "v_real = np.zeros_like(v_target)\n",
    "f_target = np.arange(100, 0, -10)\n",
    "f_real = np.zeros_like(f_target)\n",
    "v_target, f_target"
   ]
  },
  {
   "cell_type": "code",
   "execution_count": 39,
   "id": "ff422026",
   "metadata": {},
   "outputs": [],
   "source": [
    "smu = rm.open_resource(VISA_ADDR)"
   ]
  },
  {
   "cell_type": "code",
   "execution_count": 40,
   "id": "ab3eb9d1",
   "metadata": {},
   "outputs": [
    {
     "name": "stderr",
     "output_type": "stream",
     "text": [
      "  0%|          | 0/10 [00:00<?, ?it/s]/usr/local/share/pynq-venv/lib/python3.10/site-packages/pynq/ps.py:434: UserWarning: Setting frequency to the closest possible value 90.90909MHz.\n",
      "  warnings.warn(\n",
      "/usr/local/share/pynq-venv/lib/python3.10/site-packages/pynq/ps.py:434: UserWarning: Setting frequency to the closest possible value 83.33333MHz.\n",
      "  warnings.warn(\n",
      "/usr/local/share/pynq-venv/lib/python3.10/site-packages/pynq/ps.py:434: UserWarning: Setting frequency to the closest possible value 71.42857MHz.\n",
      "  warnings.warn(\n",
      "/usr/local/share/pynq-venv/lib/python3.10/site-packages/pynq/ps.py:434: UserWarning: Setting frequency to the closest possible value 58.82353MHz.\n",
      "  warnings.warn(\n",
      "/usr/local/share/pynq-venv/lib/python3.10/site-packages/pynq/ps.py:434: UserWarning: Setting frequency to the closest possible value 30.30303MHz.\n",
      "  warnings.warn(\n",
      "100%|██████████| 10/10 [2:03:09<00:00, 738.92s/it] \n"
     ]
    }
   ],
   "source": [
    "delta_p_mean = np.zeros((v_target.size, f_target.size))\n",
    "delta_p_std = np.zeros((v_target.size, f_target.size))\n",
    "energy_mean = np.zeros((v_target.size, f_target.size))\n",
    "energy_std = np.zeros((v_target.size, f_target.size))\n",
    "\n",
    "latency_mean = np.zeros((v_target.size, f_target.size))\n",
    "latency_std = np.zeros((v_target.size, f_target.size))\n",
    "\n",
    "for i in tqdm(range(v_target.size)):\n",
    "    pmic.set_vint(v_target[i])\n",
    "    v_real[i] = check_vint_xadc(xadc)\n",
    "    \n",
    "    for j in range(f_target.size):\n",
    "        \n",
    "        Clocks.fclk0_mhz = f_target[j]\n",
    "        f_real[j] = Clocks.fclk0_mhz\n",
    "    \n",
    "        latencies = model.measure_latency(100, 10, False)\n",
    "        timestamps, power = measure_power(model, 10)\n",
    "\n",
    "        delta_p_mean[i,j], delta_p_std[i,j], energy_mean[i,j], energy_std[i,j] = mean_std_power_energy(timestamps, power, latencies)\n",
    "\n",
    "        latency_mean[i,j] = latencies.mean()\n",
    "        latency_std[i,j] = latencies.std()\n",
    "\n",
    "        np.savez('v_f_dependency.npz', v=v_real, f=f_real, delta_p_mean=delta_p_mean, delta_p_std=delta_p_std, energy_mean=energy_mean, energy_std=energy_std, latency_mean=latency_mean, latency_std=latency_std)"
   ]
  },
  {
   "cell_type": "code",
   "execution_count": 41,
   "id": "97580578",
   "metadata": {},
   "outputs": [],
   "source": [
    "smu.close()"
   ]
  },
  {
   "cell_type": "code",
   "execution_count": 43,
   "id": "0e615ea3",
   "metadata": {},
   "outputs": [],
   "source": [
    "X, Y = np.meshgrid(v_real, f_real)"
   ]
  },
  {
   "cell_type": "code",
   "execution_count": 49,
   "id": "95f5ffb9",
   "metadata": {},
   "outputs": [
    {
     "data": {
      "image/png": "[encoded data removed]",
      "text/plain": [
       "<Figure size 432x288 with 2 Axes>"
      ]
     },
     "metadata": {
      "needs_background": "light"
     },
     "output_type": "display_data"
    }
   ],
   "source": [
    "plt.pcolormesh(X, Y, delta_p_mean)\n",
    "\n",
    "cbar = plt.colorbar()\n",
    "cbar.ax.get_yaxis().labelpad = 15\n",
    "cbar.ax.set_ylabel('$\\Delta$P (W)', rotation=270)\n",
    "\n",
    "plt.yticks(f_target)\n",
    "plt.xticks(v_target)\n",
    "\n",
    "plt.ylabel('Clock frequency (MHz)')\n",
    "plt.xlabel('$V_{INT}$ (V)')\n",
    "\n",
    "# Annotate the Z values on the plot\n",
    "for i in range(delta_p_mean.shape[0]):\n",
    "    for j in range(delta_p_mean.shape[1]):\n",
    "        plt.text(v_real[i], f_real[j], '%.2f' % delta_p_mean[i, j],\n",
    "                 horizontalalignment='center',\n",
    "                 verticalalignment='center',\n",
    "                 color='white')\n",
    "\n",
    "plt.savefig('delta_P_v_f_dependency.pdf')"
   ]
  },
  {
   "cell_type": "markdown",
   "id": "68dda453",
   "metadata": {},
   "source": [
    "## Reset to defaults"
   ]
  },
  {
   "cell_type": "code",
   "execution_count": 50,
   "id": "78a6192b",
   "metadata": {},
   "outputs": [],
   "source": [
    "pmic.set_vint(1)\n",
    "Clocks.fclk_0 = 100"
   ]
  }
 ],
 "metadata": {
  "kernelspec": {
   "display_name": "Python 3 (ipykernel)",
   "language": "python",
   "name": "python3"
  },
  "language_info": {
   "codemirror_mode": {
    "name": "ipython",
    "version": 3
   },
   "file_extension": ".py",
   "mimetype": "text/x-python",
   "name": "python",
   "nbconvert_exporter": "python",
   "pygments_lexer": "ipython3",
   "version": "3.10.4"
  }
 },
 "nbformat": 4,
 "nbformat_minor": 5
}
